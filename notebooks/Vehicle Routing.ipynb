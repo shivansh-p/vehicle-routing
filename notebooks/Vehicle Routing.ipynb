{
 "cells": [
  {
   "cell_type": "code",
   "execution_count": 1,
   "metadata": {},
   "outputs": [],
   "source": [
    "import math\n",
    "from collections import namedtuple"
   ]
  },
  {
   "cell_type": "code",
   "execution_count": 2,
   "metadata": {},
   "outputs": [],
   "source": [
    "Customer = namedtuple(\"Customer\", ['index', 'demand', 'x', 'y'])"
   ]
  },
  {
   "cell_type": "code",
   "execution_count": 3,
   "metadata": {},
   "outputs": [],
   "source": [
    "file_location = \"../data/vrp_5_4_1\"\n",
    "with open(file_location, 'r') as input_data_file:\n",
    "    input_data = input_data_file.read()\n",
    "\n",
    "lines = input_data.split('\\n')\n",
    "parts = lines[0].split()\n",
    "customer_count = int(parts[0])\n",
    "vehicle_count = int(parts[1])\n",
    "vehicle_capacity = int(parts[2])\n",
    "    \n",
    "customers = []\n",
    "for i in range(1, customer_count+1):\n",
    "    line = lines[i]\n",
    "    parts = line.split()\n",
    "    customers.append(Customer(i-1, int(parts[0]), float(parts[1]), float(parts[2])))\n",
    "\n",
    "#the depot is always the first customer in the input\n",
    "depot = customers[0] \n"
   ]
  },
  {
   "cell_type": "code",
   "execution_count": 4,
   "metadata": {},
   "outputs": [],
   "source": [
    "def dist(customer1, customer2):\n",
    "    return math.sqrt((customer1.x - customer2.x)**2 + (customer1.y - customer2.y)**2)"
   ]
  },
  {
   "cell_type": "code",
   "execution_count": 5,
   "metadata": {},
   "outputs": [
    {
     "name": "stdout",
     "output_type": "stream",
     "text": [
      "[Customer(index=0, demand=0, x=0.0, y=0.0), Customer(index=1, demand=3, x=0.0, y=10.0), Customer(index=2, demand=3, x=-10.0, y=10.0), Customer(index=3, demand=3, x=0.0, y=-10.0), Customer(index=4, demand=3, x=10.0, y=-10.0)]\n",
      "---------------\n",
      "Customer(index=0, demand=0, x=0.0, y=0.0)\n"
     ]
    }
   ],
   "source": [
    "print (customers)\n",
    "print(\"---------------\")\n",
    "print(depot)"
   ]
  },
  {
   "cell_type": "code",
   "execution_count": 6,
   "metadata": {},
   "outputs": [],
   "source": [
    "def obj(vehicle_tours, ):\n",
    "    obj = 0\n",
    "    for v in range(0, vehicle_count):\n",
    "        vehicle_tour = vehicle_tours[v]\n",
    "        if len(vehicle_tour) > 0:\n",
    "            obj += dist(depot,vehicle_tour[0])\n",
    "            for i in range(0, len(vehicle_tour)-1):\n",
    "                obj += dist(vehicle_tour[i],vehicle_tour[i+1])\n",
    "            obj += dist(vehicle_tour[-1],depot)\n",
    "    return obj"
   ]
  },
  {
   "cell_type": "code",
   "execution_count": 7,
   "metadata": {},
   "outputs": [],
   "source": [
    "vehicle_tours = []\n",
    "vehicle_tours = [[] for _ in range(vehicle_count)]\n",
    "remaining_customers = set(customers)\n",
    "remaining_customers.remove(depot)\n",
    "vehicle_loads = [0 for _ in range(vehicle_count)]\n",
    "\n",
    "while len(remaining_customers) > 0:\n",
    "    customer = remaining_customers.pop()\n",
    "    for i in range(vehicle_count):\n",
    "        if vehicle_loads[i] + customer.demand <= vehicle_capacity:\n",
    "            vehicle_tours[i].append(customer)\n",
    "            vehicle_loads[i] += customer.demand\n",
    "            break"
   ]
  },
  {
   "cell_type": "code",
   "execution_count": 8,
   "metadata": {},
   "outputs": [
    {
     "data": {
      "text/plain": [
       "set()"
      ]
     },
     "execution_count": 8,
     "metadata": {},
     "output_type": "execute_result"
    }
   ],
   "source": [
    "remaining_customers"
   ]
  },
  {
   "cell_type": "code",
   "execution_count": 9,
   "metadata": {},
   "outputs": [
    {
     "data": {
      "text/plain": [
       "[9, 3, 0, 0]"
      ]
     },
     "execution_count": 9,
     "metadata": {},
     "output_type": "execute_result"
    }
   ],
   "source": [
    "vehicle_loads"
   ]
  },
  {
   "cell_type": "code",
   "execution_count": 10,
   "metadata": {},
   "outputs": [
    {
     "data": {
      "text/plain": [
       "[[Customer(index=4, demand=3, x=10.0, y=-10.0),\n",
       "  Customer(index=1, demand=3, x=0.0, y=10.0),\n",
       "  Customer(index=2, demand=3, x=-10.0, y=10.0)],\n",
       " [Customer(index=3, demand=3, x=0.0, y=-10.0)],\n",
       " [],\n",
       " []]"
      ]
     },
     "execution_count": 10,
     "metadata": {},
     "output_type": "execute_result"
    }
   ],
   "source": [
    "vehicle_tours"
   ]
  },
  {
   "cell_type": "code",
   "execution_count": 12,
   "metadata": {},
   "outputs": [
    {
     "data": {
      "text/plain": [
       "80.6449510224598"
      ]
     },
     "execution_count": 12,
     "metadata": {},
     "output_type": "execute_result"
    }
   ],
   "source": [
    "obj(vehicle_tours)"
   ]
  },
  {
   "cell_type": "code",
   "execution_count": null,
   "metadata": {},
   "outputs": [],
   "source": []
  }
 ],
 "metadata": {
  "kernelspec": {
   "display_name": "Python 3",
   "language": "python",
   "name": "python3"
  },
  "language_info": {
   "codemirror_mode": {
    "name": "ipython",
    "version": 3
   },
   "file_extension": ".py",
   "mimetype": "text/x-python",
   "name": "python",
   "nbconvert_exporter": "python",
   "pygments_lexer": "ipython3",
   "version": "3.6.1"
  }
 },
 "nbformat": 4,
 "nbformat_minor": 2
}
